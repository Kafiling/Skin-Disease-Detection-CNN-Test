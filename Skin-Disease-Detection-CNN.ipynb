{
  "nbformat": 4,
  "nbformat_minor": 0,
  "metadata": {
    "colab": {
      "provenance": []
    },
    "kernelspec": {
      "name": "python3",
      "display_name": "Python 3"
    },
    "language_info": {
      "name": "python"
    }
  },
  "cells": [
    {
      "cell_type": "code",
      "execution_count": 2,
      "metadata": {
        "colab": {
          "base_uri": "https://localhost:8080/"
        },
        "id": "pRHb0WUU7A4K",
        "outputId": "972886a1-e515-4394-a520-db2f7a0c7d4e"
      },
      "outputs": [
        {
          "output_type": "stream",
          "name": "stdout",
          "text": [
            "18\n",
            "Image: Lichen Planus.jpeg, Predicted Class: Pityriasis Rosea\n",
            "13\n",
            "Image: Negative test1.jpg, Predicted Class: Molluscum Contagiosum\n",
            "12\n",
            "Image: Melanoma .jpeg, Predicted Class: Melanoma\n",
            "2\n",
            "Image:  Epi Bullosa Pruriginosa.jpg, Predicted Class: Epidermolysis Bullosa Pruriginosa\n",
            "13\n",
            "Image: Molluscum Contagiosum2.jpeg, Predicted Class: Molluscum Contagiosum\n",
            "9\n",
            "Image: Dariers-Disease.jpg, Predicted Class: Leprosy Tuberculoid\n",
            "3\n",
            "Image: Hailey-Hailey Disease2.jpeg, Predicted Class: Hailey-Hailey Disease\n",
            "0\n",
            "Image: basal-cell-carcinoma.jpeg, Predicted Class: Basal Cell Carcinoma\n",
            "3\n",
            "Image: Hailey-Hailey Disease.jpeg, Predicted Class: Hailey-Hailey Disease\n",
            "0\n",
            "Image: Superficial_basal_cell_carcinoma.jpg, Predicted Class: Basal Cell Carcinoma\n",
            "5\n",
            "Image: Negative test2.jpg, Predicted Class: Impetigo\n",
            "13\n",
            "Image: Molluscum Contagiosum.jpeg, Predicted Class: Molluscum Contagiosum\n"
          ]
        }
      ],
      "source": [
        "import os\n",
        "from IPython import get_ipython\n",
        "from IPython.display import display\n",
        "# %%\n",
        "import torch\n",
        "from transformers import AutoModelForImageClassification, AutoImageProcessor\n",
        "from PIL import Image\n",
        "\n",
        "repo_name = \"Jayanth2002/dinov2-base-finetuned-SkinDisease\"\n",
        "image_processor = AutoImageProcessor.from_pretrained(repo_name)\n",
        "model = AutoModelForImageClassification.from_pretrained(repo_name)\n",
        "\n",
        "# Define the folder path\n",
        "folder_path = \"/content/\"  # Update with the actual path to your \"flies\" folder\n",
        "\n",
        "# Get a list of all image files in the folder\n",
        "image_files = [f for f in os.listdir(folder_path) if os.path.isfile(os.path.join(folder_path, f))]\n",
        "\n",
        "# Loop through each image file\n",
        "for image_file in image_files:\n",
        "    # Construct the full image path\n",
        "    image_path = os.path.join(folder_path, image_file)\n",
        "\n",
        "    # Load and preprocess the image\n",
        "    image = Image.open(image_path)\n",
        "    encoding = image_processor(image.convert(\"RGB\"), return_tensors=\"pt\")\n",
        "\n",
        "    # Make a prediction\n",
        "    with torch.no_grad():\n",
        "        outputs = model(**encoding)\n",
        "        logits = outputs.logits\n",
        "\n",
        "    predicted_class_idx = logits.argmax(-1).item()\n",
        "    print(predicted_class_idx)\n",
        "\n",
        "    # Get the class name\n",
        "    class_names = ['Basal Cell Carcinoma', 'Darier_s Disease', 'Epidermolysis Bullosa Pruriginosa', 'Hailey-Hailey Disease', 'Herpes Simplex', 'Impetigo', 'Larva Migrans', 'Leprosy Borderline', 'Leprosy Lepromatous', 'Leprosy Tuberculoid', 'Lichen Planus', 'Lupus Erythematosus Chronicus Discoides', 'Melanoma', 'Molluscum Contagiosum', 'Mycosis Fungoides', 'Neurofibromatosis', 'Papilomatosis Confluentes And Reticulate', 'Pediculosis Capitis', 'Pityriasis Rosea', 'Porokeratosis Actinic', 'Psoriasis', 'Tinea Corporis', 'Tinea Nigra', 'Tungiasis', 'actinic keratosis', 'dermatofibroma', 'nevus', 'pigmented benign keratosis', 'seborrheic keratosis', 'squamous cell carcinoma', 'vascular lesion']\n",
        "    predicted_class_name = class_names[predicted_class_idx]\n",
        "\n",
        "    # Print the prediction for the current image\n",
        "    print(f\"Image: {image_file}, Predicted Class: {predicted_class_name}\")"
      ]
    },
    {
      "cell_type": "markdown",
      "source": [],
      "metadata": {
        "id": "Jd-lR6g-jCY1"
      }
    }
  ]
}